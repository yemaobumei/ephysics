{
  "cells": [
    {
      "cell_type": "raw",
      "metadata": {},
      "source": [
        "---\n",
        "title: \"Welcome To My Blog\"\n",
        "author: \"叶叶叶\"\n",
        "date: \"2024-10-27\"\n",
        "categories: [news]\n",
        "---"
      ],
      "id": "0bf0f50b"
    },
    {
      "cell_type": "markdown",
      "metadata": {},
      "source": [
        "This is the first post in a Quarto blog. Welcome!\n",
        "\n",
        "![](thumbnail.jpg)\n",
        "\n",
        "Since this post doesn't specify an explicit `image`, the first image in the post will be used in the listing page of posts.\n",
        "\n",
        "欢迎大家来到我的博客👏\n",
        "\n",
        "**实验**\n",
        "\n",
        "## python代码\n",
        "\n",
        "```python\n",
        "s = 0\n",
        "for i in range(100):\n",
        "\ts += i\n",
        "print(s)\n",
        "def f(x):\n",
        "\ts = 0\n",
        "\tfor i in range(x):\n",
        "\t\ts += i\n",
        "\treturn s\n",
        "```\n",
        "\n",
        "$$\n",
        "  f(x) = \\frac{1}{2} \\sum_{j=1}^\\infty \\int_0^1 \\sin^2(j t x) dt .\n",
        "$${#eq-mylabel}\n"
      ],
      "id": "3203621b"
    },
    {
      "cell_type": "code",
      "metadata": {},
      "source": [
        "#| label: fig-polar\n",
        "#| fig-cap: A line plot on a polar axis\n",
        "\n",
        "import numpy as np\n",
        "import matplotlib.pyplot as plt\n",
        "\n",
        "r = np.arange(0, 2, 0.01)\n",
        "theta = 2 * np.pi * r\n",
        "fig, ax = plt.subplots(\n",
        "  subplot_kw = {'projection': 'polar'} \n",
        ")\n",
        "ax.plot(theta, r)\n",
        "ax.set_rticks([0.5, 1, 1.5, 2])\n",
        "ax.grid(True)\n",
        "plt.show()"
      ],
      "id": "fig-polar",
      "execution_count": null,
      "outputs": []
    }
  ],
  "metadata": {
    "kernelspec": {
      "display_name": "Python 3",
      "language": "python",
      "name": "python3"
    }
  },
  "nbformat": 4,
  "nbformat_minor": 5
}